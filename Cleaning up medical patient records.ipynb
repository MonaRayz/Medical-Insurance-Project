{
 "cells": [
  {
   "cell_type": "markdown",
   "id": "42ebf3a6",
   "metadata": {},
   "source": [
    "#Cleaning up medical patient records : Medical Insurance Project"
   ]
  },
  {
   "cell_type": "markdown",
   "id": "7fdabfc2",
   "metadata": {},
   "source": []
  },
  {
   "cell_type": "markdown",
   "id": "b43c5043",
   "metadata": {},
   "source": [
    "## Working with Strings"
   ]
  },
  {
   "cell_type": "markdown",
   "id": "946b626b",
   "metadata": {},
   "source": [
    "1. The string `medical_data` stores the medical records for ten individuals. Each record is separated by a `;` and contains the name, age, BMI (body mass index), and insurance cost for an individual, in that order.\n",
    "   "
   ]
  },
  {
   "cell_type": "code",
   "execution_count": 2,
   "id": "98d79856",
   "metadata": {},
   "outputs": [
    {
     "name": "stdout",
     "output_type": "stream",
     "text": [
      "Marina Allison   ,27   ,   31.1 , \n",
      "#7010.0   ;Markus Valdez   ,   30, \n",
      "22.4,   #4050.0 ;Connie Ballard ,43 \n",
      ",   25.3 , #12060.0 ;Darnell Weber   \n",
      ",   35   , 20.6   , #7500.0;\n",
      "Sylvie Charles   ,22, 22.1 \n",
      ",#3022.0   ;   Vinay Padilla,24,   \n",
      "26.9 ,#4620.0 ;Meredith Santiago, 51   , \n",
      "29.3 ,#16330.0;   Andre Mccarty, \n",
      "19,22.7 , #2900.0 ; \n",
      "Lorena Hodson ,65, 33.1 , #19370.0; \n",
      "Isaac Vu ,34, 24.8,   #7045.0\n"
     ]
    }
   ],
   "source": [
    "medical_data = \\\n",
    "\"\"\"Marina Allison   ,27   ,   31.1 , \n",
    "#7010.0   ;Markus Valdez   ,   30, \n",
    "22.4,   #4050.0 ;Connie Ballard ,43 \n",
    ",   25.3 , #12060.0 ;Darnell Weber   \n",
    ",   35   , 20.6   , #7500.0;\n",
    "Sylvie Charles   ,22, 22.1 \n",
    ",#3022.0   ;   Vinay Padilla,24,   \n",
    "26.9 ,#4620.0 ;Meredith Santiago, 51   , \n",
    "29.3 ,#16330.0;   Andre Mccarty, \n",
    "19,22.7 , #2900.0 ; \n",
    "Lorena Hodson ,65, 33.1 , #19370.0; \n",
    "Isaac Vu ,34, 24.8,   #7045.0\"\"\"\n",
    "\n",
    "print(medical_data)"
   ]
  },
  {
   "cell_type": "markdown",
   "id": "027929c1",
   "metadata": {},
   "source": [
    "2. First, I represented the insurance costs in US dollars.\n",
    "\n",
    "   Replace all instances of `#` in `medical_data` with `$`. and stored the result in a variable called `updated_medical_data`.\n",
    "   \n",
    "   Print `updated_medical_data`."
   ]
  },
  {
   "cell_type": "code",
   "execution_count": 3,
   "id": "0fafcc50",
   "metadata": {},
   "outputs": [
    {
     "name": "stdout",
     "output_type": "stream",
     "text": [
      "Marina Allison   ,27   ,   31.1 , \n",
      "$7010.0   ;Markus Valdez   ,   30, \n",
      "22.4,   $4050.0 ;Connie Ballard ,43 \n",
      ",   25.3 , $12060.0 ;Darnell Weber   \n",
      ",   35   , 20.6   , $7500.0;\n",
      "Sylvie Charles   ,22, 22.1 \n",
      ",$3022.0   ;   Vinay Padilla,24,   \n",
      "26.9 ,$4620.0 ;Meredith Santiago, 51   , \n",
      "29.3 ,$16330.0;   Andre Mccarty, \n",
      "19,22.7 , $2900.0 ; \n",
      "Lorena Hodson ,65, 33.1 , $19370.0; \n",
      "Isaac Vu ,34, 24.8,   $7045.0\n"
     ]
    }
   ],
   "source": [
    "updated_medical_data = medical_data.replace('#', '$')\n",
    "print(updated_medical_data)"
   ]
  },
  {
   "cell_type": "markdown",
   "id": "c8077148",
   "metadata": {},
   "source": [
    "3. To calculate the number of medical records in our data.\n",
    "\n",
    "   I Created a variable called `num_records` and initialized it at 0."
   ]
  },
  {
   "cell_type": "code",
   "execution_count": 4,
   "id": "9da8e807",
   "metadata": {},
   "outputs": [],
   "source": [
    "num_records = 0"
   ]
  },
  {
   "cell_type": "markdown",
   "id": "01a5a118",
   "metadata": {},
   "source": [
    "4. Next, I wrote a `for` loop to iterate through the `updated_medical_data` string. Inside of the loop, add `1` to `num_records` when the current character is equal to `$`."
   ]
  },
  {
   "cell_type": "code",
   "execution_count": 6,
   "id": "7d5aaabf",
   "metadata": {},
   "outputs": [],
   "source": [
    "for char in updated_medical_data:\n",
    "    if char == '$':\n",
    "        num_records +=1\n",
    "    "
   ]
  },
  {
   "cell_type": "markdown",
   "id": "8649dd50",
   "metadata": {},
   "source": [
    "5. Outside of the loop, print `num_records` with the following message:\n",
    "\n",
    "   ```\n",
    "   There are {num_records} medical records in the data.\n",
    "   ```"
   ]
  },
  {
   "cell_type": "code",
   "execution_count": 7,
   "id": "6638542f",
   "metadata": {},
   "outputs": [
    {
     "name": "stdout",
     "output_type": "stream",
     "text": [
      "There are 10medical records in the data.\n"
     ]
    }
   ],
   "source": [
    "print(\"There are \" + str(num_records)+ \"medical records in the data.\")"
   ]
  },
  {
   "cell_type": "markdown",
   "id": "10897f50",
   "metadata": {},
   "source": [
    "## Splitting Strings"
   ]
  },
  {
   "cell_type": "markdown",
   "id": "585614f8",
   "metadata": {},
   "source": [
    "6. The medical data in its current form is difficult to analyze. An essential job for a data scientist is to clean up data so that it's easy to work with.\n",
    "\n",
    "   To split the `updated_medical_data` string into a list of each record as is separated by a `;` in the string and store the result in a variable called `medical_data_split` and print this variable."
   ]
  },
  {
   "cell_type": "code",
   "execution_count": 8,
   "id": "76cae5e8",
   "metadata": {},
   "outputs": [
    {
     "name": "stdout",
     "output_type": "stream",
     "text": [
      "['Marina Allison   ,27   ,   31.1 , \\n$7010.0   ', 'Markus Valdez   ,   30, \\n22.4,   $4050.0 ', 'Connie Ballard ,43 \\n,   25.3 , $12060.0 ', 'Darnell Weber   \\n,   35   , 20.6   , $7500.0', '\\nSylvie Charles   ,22, 22.1 \\n,$3022.0   ', '   Vinay Padilla,24,   \\n26.9 ,$4620.0 ', 'Meredith Santiago, 51   , \\n29.3 ,$16330.0', '   Andre Mccarty, \\n19,22.7 , $2900.0 ', ' \\nLorena Hodson ,65, 33.1 , $19370.0', ' \\nIsaac Vu ,34, 24.8,   $7045.0']\n"
     ]
    }
   ],
   "source": [
    "medical_data_split = updated_medical_data.split(';')\n",
    "print(medical_data_split)"
   ]
  },
  {
   "cell_type": "markdown",
   "id": "1eb23af4",
   "metadata": {},
   "source": [
    "7. The data is now stored in a list, but it is still hard to read. I therefore split each medical record into its own list.\n",
    "\n",
    "   First, I defined an empty list called `medical_records`."
   ]
  },
  {
   "cell_type": "code",
   "execution_count": 9,
   "id": "434ed907",
   "metadata": {},
   "outputs": [],
   "source": [
    "medical_records = []"
   ]
  },
  {
   "cell_type": "markdown",
   "id": "1d28c632",
   "metadata": {},
   "source": [
    "8. Next, iterated through `medical_data_split` and for each record, split the string after each comma (`,`) and appended the split string to `medical_records`.\n",
    "\n",
    "   Print `medical_records` after the loop."
   ]
  },
  {
   "cell_type": "code",
   "execution_count": 10,
   "id": "d57c33b1",
   "metadata": {},
   "outputs": [
    {
     "name": "stdout",
     "output_type": "stream",
     "text": [
      "[['Marina Allison   ', '27   ', '   31.1 ', ' \\n$7010.0   '], ['Markus Valdez   ', '   30', ' \\n22.4', '   $4050.0 '], ['Connie Ballard ', '43 \\n', '   25.3 ', ' $12060.0 '], ['Darnell Weber   \\n', '   35   ', ' 20.6   ', ' $7500.0'], ['\\nSylvie Charles   ', '22', ' 22.1 \\n', '$3022.0   '], ['   Vinay Padilla', '24', '   \\n26.9 ', '$4620.0 '], ['Meredith Santiago', ' 51   ', ' \\n29.3 ', '$16330.0'], ['   Andre Mccarty', ' \\n19', '22.7 ', ' $2900.0 '], [' \\nLorena Hodson ', '65', ' 33.1 ', ' $19370.0'], [' \\nIsaac Vu ', '34', ' 24.8', '   $7045.0']]\n"
     ]
    }
   ],
   "source": [
    "for record in medical_data_split:\n",
    "    medical_records.append(record.split(','))\n",
    "print(medical_records)"
   ]
  },
  {
   "cell_type": "markdown",
   "id": "82da2380",
   "metadata": {},
   "source": [
    "## Cleaning Data"
   ]
  },
  {
   "cell_type": "markdown",
   "id": "5e07b261",
   "metadata": {},
   "source": [
    "9. The data is now slightly more readable. However, it is not properly formatted - it contains unnecessary whitespace.\n",
    "\n",
    "   To fix this, I started by creating an empty list called `medical_records_clean`."
   ]
  },
  {
   "cell_type": "code",
   "execution_count": 11,
   "id": "fe45e1b0",
   "metadata": {},
   "outputs": [],
   "source": [
    "medical_records_clean = []"
   ]
  },
  {
   "cell_type": "markdown",
   "id": "6c27f1d8",
   "metadata": {},
   "source": [
    "10. Next, I used a `for` loop to iterate through `medical_records`.\n",
    "\n",
    "    Inside of the loop, I created an empty list called `record_clean`. We'll use this list to store a formatted version of each medical record."
   ]
  },
  {
   "cell_type": "code",
   "execution_count": 13,
   "id": "1d13c527",
   "metadata": {},
   "outputs": [],
   "source": [
    "# for record in medical_records:\n",
    "#     record_clean = []"
   ]
  },
  {
   "cell_type": "markdown",
   "id": "af65cf51",
   "metadata": {},
   "source": [
    "11. After the `record_clean` variable, I created a nested `for` loop that goes through each `record`:\n",
    "\n",
    "    ```py\n",
    "    for item in record\n",
    "    ```\n",
    "    \n",
    "    Inside of this loop, append `item.strip()` to `record_clean` to remove any whitespace from the string."
   ]
  },
  {
   "cell_type": "code",
   "execution_count": 22,
   "id": "62c68cf6",
   "metadata": {},
   "outputs": [],
   "source": [
    " for record in medical_records:\n",
    "    record_clean = []\n",
    "    for item in record:\n",
    "        record_clean.append(item.strip())\n"
   ]
  },
  {
   "cell_type": "markdown",
   "id": "173d51bf",
   "metadata": {},
   "source": [
    "12. Finally, I needed to add each cleaned up record to `medical_records_clean`.\n",
    "\n",
    "    Outside of the nested `for` loop, I appended `record_clean` to `medical_records_clean`."
   ]
  },
  {
   "cell_type": "code",
   "execution_count": 23,
   "id": "4ac79cd2",
   "metadata": {},
   "outputs": [],
   "source": [
    "for record in medical_records:\n",
    "    record_clean = []\n",
    "    for item in record:\n",
    "        record_clean.append(item.strip())\n",
    "    medical_records_clean.append(record_clean)"
   ]
  },
  {
   "cell_type": "markdown",
   "id": "d2f0344f",
   "metadata": {},
   "source": [
    "13. To see the output, I Printed the `medical_records_clean` outside of the `for` loops.\n",
    "\n",
    "    You should see output that is formatted and much easier to read."
   ]
  },
  {
   "cell_type": "code",
   "execution_count": 24,
   "id": "c8ab9356",
   "metadata": {},
   "outputs": [
    {
     "name": "stdout",
     "output_type": "stream",
     "text": [
      "[['Isaac Vu', '34', '24.8', '$7045.0'], ['Marina Allison', '27', '31.1', '$7010.0'], ['Markus Valdez', '30', '22.4', '$4050.0'], ['Connie Ballard', '43', '25.3', '$12060.0'], ['Darnell Weber', '35', '20.6', '$7500.0'], ['Sylvie Charles', '22', '22.1', '$3022.0'], ['Vinay Padilla', '24', '26.9', '$4620.0'], ['Meredith Santiago', '51', '29.3', '$16330.0'], ['Andre Mccarty', '19', '22.7', '$2900.0'], ['Lorena Hodson', '65', '33.1', '$19370.0'], ['Isaac Vu', '34', '24.8', '$7045.0']]\n"
     ]
    }
   ],
   "source": [
    "print(medical_records_clean)"
   ]
  },
  {
   "cell_type": "markdown",
   "id": "e27bf497",
   "metadata": {},
   "source": [
    "## Analyzing Data"
   ]
  },
  {
   "cell_type": "markdown",
   "id": "9e73a4f2",
   "metadata": {},
   "source": [
    "14. The data is now clean and ready for analysis.\n",
    "\n",
    "    For example, to print out the names of each of the ten individuals, we can use the following loop:\n",
    "    ```py\n",
    "    for record in medical_records_clean:\n",
    "      print(record[0])\n",
    "    ```\n",
    "    \n",
    "    Add this loop to the code block below and run it."
   ]
  },
  {
   "cell_type": "code",
   "execution_count": 27,
   "id": "3ade320b",
   "metadata": {},
   "outputs": [
    {
     "name": "stdout",
     "output_type": "stream",
     "text": [
      "Isaac Vu\n",
      "Marina Allison\n",
      "Markus Valdez\n",
      "Connie Ballard\n",
      "Darnell Weber\n",
      "Sylvie Charles\n",
      "Vinay Padilla\n",
      "Meredith Santiago\n",
      "Andre Mccarty\n",
      "Lorena Hodson\n",
      "Isaac Vu\n"
     ]
    }
   ],
   "source": [
    "\n",
    "for record in medical_records_clean:\n",
    "    print(record[0])"
   ]
  },
  {
   "cell_type": "markdown",
   "id": "283e1a2f",
   "metadata": {},
   "source": [
    "15. If I wanted all the names in the medical records to be uppercase characters.\n",
    "\n",
    "    In the `for` loop, update `records[0]` before the `print` statement so that all of the characters are uppercase.\n",
    "    \n",
    "    Run the code to see the result."
   ]
  },
  {
   "cell_type": "code",
   "execution_count": 30,
   "id": "ee24f738",
   "metadata": {},
   "outputs": [
    {
     "name": "stdout",
     "output_type": "stream",
     "text": [
      "ISAAC VU\n",
      "MARINA ALLISON\n",
      "MARKUS VALDEZ\n",
      "CONNIE BALLARD\n",
      "DARNELL WEBER\n",
      "SYLVIE CHARLES\n",
      "VINAY PADILLA\n",
      "MEREDITH SANTIAGO\n",
      "ANDRE MCCARTY\n",
      "LORENA HODSON\n",
      "ISAAC VU\n"
     ]
    }
   ],
   "source": [
    "for record in medical_records_clean:\n",
    "    record[0]= record[0].upper()\n",
    "    print(record[0])"
   ]
  },
  {
   "cell_type": "markdown",
   "id": "e16d6979",
   "metadata": {},
   "source": [
    "16. To store each name, age, BMI, and insurance cost in separate lists.\n",
    "\n",
    "    To start, create four empty lists:\n",
    "    - `names`\n",
    "    - `ages`\n",
    "    - `bmis`\n",
    "    - `insurance_costs`"
   ]
  },
  {
   "cell_type": "code",
   "execution_count": 32,
   "id": "e77b8028",
   "metadata": {},
   "outputs": [],
   "source": [
    "names = []\n",
    "ages= []\n",
    "bmis = []\n",
    "insurance_costs = []"
   ]
  },
  {
   "cell_type": "markdown",
   "id": "637e6b7e",
   "metadata": {},
   "source": [
    "17. Next, I iterated through `medical_records_clean` and for each record:\n",
    "    - Append the name to `names`.\n",
    "    - Append the age to `ages`.\n",
    "    - Append the BMI to `bmis`.\n",
    "    - Append the insurance cost to `insurance_costs`."
   ]
  },
  {
   "cell_type": "code",
   "execution_count": 34,
   "id": "2e370347",
   "metadata": {},
   "outputs": [],
   "source": [
    "for record in medical_records_clean:\n",
    "    names.append(record[0])\n",
    "    ages.append(record[1])\n",
    "    bmis.append(record[2])\n",
    "    insurance_costs.append(record[3])"
   ]
  },
  {
   "cell_type": "markdown",
   "id": "92b26a50",
   "metadata": {},
   "source": [
    "18. Print `names`, `ages`, `bmis`, and `insurance_costs` outside of the loop.\n",
    "\n",
    "    Make sure the output is what you expect."
   ]
  },
  {
   "cell_type": "code",
   "execution_count": 36,
   "id": "72fd0613",
   "metadata": {},
   "outputs": [
    {
     "name": "stdout",
     "output_type": "stream",
     "text": [
      "['ISAAC VU', 'ISAAC VU', 'MARINA ALLISON', 'MARKUS VALDEZ', 'CONNIE BALLARD', 'DARNELL WEBER', 'SYLVIE CHARLES', 'VINAY PADILLA', 'MEREDITH SANTIAGO', 'ANDRE MCCARTY', 'LORENA HODSON', 'ISAAC VU']\n",
      "['34', '34', '27', '30', '43', '35', '22', '24', '51', '19', '65', '34']\n",
      "['24.8', '24.8', '31.1', '22.4', '25.3', '20.6', '22.1', '26.9', '29.3', '22.7', '33.1', '24.8']\n",
      "['$7045.0', '$7010.0', '$4050.0', '$12060.0', '$7500.0', '$3022.0', '$4620.0', '$16330.0', '$2900.0', '$19370.0', '$7045.0']\n"
     ]
    }
   ],
   "source": [
    "print(names)\n",
    "print(ages)\n",
    "print(bmis)\n",
    "print(insurance_costs)"
   ]
  },
  {
   "cell_type": "markdown",
   "id": "c5ec3f19",
   "metadata": {},
   "source": [
    "19. Now that all the data is in separate lists, we can easily perform analysis on that data. \n",
    "For instance, to  calculate the average BMI in our dataset.\n",
    "\n",
    "    First, I created a variable called `total_bmi` and set it equal to 0."
   ]
  },
  {
   "cell_type": "code",
   "execution_count": 38,
   "id": "303e90dd",
   "metadata": {},
   "outputs": [],
   "source": [
    "total_bmi = 0"
   ]
  },
  {
   "cell_type": "markdown",
   "id": "d2c713d2",
   "metadata": {},
   "source": [
    "20. Next, I used a `for` loop to iterate through `bmis` and add each `bmi` to `total_bmi`.\n",
    "\n",
    "   "
   ]
  },
  {
   "cell_type": "code",
   "execution_count": 45,
   "id": "b174204c",
   "metadata": {},
   "outputs": [
    {
     "name": "stdout",
     "output_type": "stream",
     "text": [
      "307.90000000000003\n"
     ]
    }
   ],
   "source": [
    "for i in bmis:\n",
    "    total_bmi += float(i)\n",
    "print(total_bmi)"
   ]
  },
  {
   "cell_type": "markdown",
   "id": "2b4017c1",
   "metadata": {},
   "source": [
    "21. After the for loop, I created a variable called `average_bmi` that stores the `total_bmi` divided by the length of the `bmis` list then printed out `average_bmi` with the following message:\n",
    "    ```\n",
    "    Average BMI: {average_bmi}\n",
    "    ```"
   ]
  },
  {
   "cell_type": "code",
   "execution_count": 46,
   "id": "fc16ab5d",
   "metadata": {},
   "outputs": [
    {
     "name": "stdout",
     "output_type": "stream",
     "text": [
      "Average BMI:25.658333333333335\n"
     ]
    }
   ],
   "source": [
    "average_bmi = total_bmi/len(bmis)\n",
    "print(\"Average BMI:\" + str(average_bmi))"
   ]
  },
  {
   "cell_type": "markdown",
   "id": "723d4d6f",
   "metadata": {},
   "source": [
    "## Extra"
   ]
  },
  {
   "cell_type": "markdown",
   "id": "6b1a8e94",
   "metadata": {},
   "source": [
    "22. To Calculate the average insurance cost in `insurance_costs`. I had to the remove the `$` in order to calculate this.\n",
    "    - Then finally wrote a for loop that outputs a string for each individual in the following format:\n",
    "    ```\n",
    "    Marina is 27 years old with a BMI of 31.1 and an insurance cost of $7010.0.\n",
    "Markus is 30 years old with a BMI of 22.4 and an insurance cost of $4050.0.\n",
    "    ...\n",
    "    ...\n",
    "    \n",
    "  "
   ]
  },
  {
   "cell_type": "code",
   "execution_count": 52,
   "id": "cbe47776",
   "metadata": {},
   "outputs": [
    {
     "name": "stdout",
     "output_type": "stream",
     "text": [
      "['7045.0', '7010.0', '4050.0', '12060.0', '7500.0', '3022.0', '4620.0', '16330.0', '2900.0', '19370.0', '7045.0']\n"
     ]
    }
   ],
   "source": [
    "updated_insurance_costs = []\n",
    "for item in insurance_costs:\n",
    "    updated_insurance_costs.append(item.strip('$'))\n",
    "print(updated_insurance_costs)\n"
   ]
  },
  {
   "cell_type": "code",
   "execution_count": 56,
   "id": "c30eba87",
   "metadata": {},
   "outputs": [
    {
     "name": "stdout",
     "output_type": "stream",
     "text": [
      "90952.0\n"
     ]
    }
   ],
   "source": [
    "total_insurance_cost = 0\n",
    "for i in updated_insurance_costs:\n",
    "    total_insurance_cost += float(i)\n",
    "print(total_insurance_cost)"
   ]
  },
  {
   "cell_type": "code",
   "execution_count": 58,
   "id": "4913b21b",
   "metadata": {},
   "outputs": [
    {
     "name": "stdout",
     "output_type": "stream",
     "text": [
      "8268.363636363636\n"
     ]
    }
   ],
   "source": [
    "average_insurance_cost = total_insurance_cost/len(updated_insurance_costs)\n",
    "print(average_insurance_cost)"
   ]
  },
  {
   "cell_type": "code",
   "execution_count": 59,
   "id": "5098f83f",
   "metadata": {},
   "outputs": [
    {
     "name": "stdout",
     "output_type": "stream",
     "text": [
      "ISAAC VUis 34 years old with a BMI of 24.8and an insurance cost of$7045.0\n",
      "MARINA ALLISONis 27 years old with a BMI of 31.1and an insurance cost of$7010.0\n",
      "MARKUS VALDEZis 30 years old with a BMI of 22.4and an insurance cost of$4050.0\n",
      "CONNIE BALLARDis 43 years old with a BMI of 25.3and an insurance cost of$12060.0\n",
      "DARNELL WEBERis 35 years old with a BMI of 20.6and an insurance cost of$7500.0\n",
      "SYLVIE CHARLESis 22 years old with a BMI of 22.1and an insurance cost of$3022.0\n",
      "VINAY PADILLAis 24 years old with a BMI of 26.9and an insurance cost of$4620.0\n",
      "MEREDITH SANTIAGOis 51 years old with a BMI of 29.3and an insurance cost of$16330.0\n",
      "ANDRE MCCARTYis 19 years old with a BMI of 22.7and an insurance cost of$2900.0\n",
      "LORENA HODSONis 65 years old with a BMI of 33.1and an insurance cost of$19370.0\n",
      "ISAAC VUis 34 years old with a BMI of 24.8and an insurance cost of$7045.0\n"
     ]
    }
   ],
   "source": [
    "for record in medical_records_clean:\n",
    "    print(record[0] + 'is ' + record[1] + ' years old with a BMI of '+ record[2] + 'and an insurance cost of ' + record[3])"
   ]
  },
  {
   "cell_type": "code",
   "execution_count": null,
   "id": "4a1e45b3",
   "metadata": {},
   "outputs": [],
   "source": []
  }
 ],
 "metadata": {
  "kernelspec": {
   "display_name": "Python 3 (ipykernel)",
   "language": "python",
   "name": "python3"
  },
  "language_info": {
   "codemirror_mode": {
    "name": "ipython",
    "version": 3
   },
   "file_extension": ".py",
   "mimetype": "text/x-python",
   "name": "python",
   "nbconvert_exporter": "python",
   "pygments_lexer": "ipython3",
   "version": "3.11.5"
  }
 },
 "nbformat": 4,
 "nbformat_minor": 5
}
