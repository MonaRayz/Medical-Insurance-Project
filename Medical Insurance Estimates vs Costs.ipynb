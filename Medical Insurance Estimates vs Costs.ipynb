{
 "cells": [
  {
   "cell_type": "markdown",
   "id": "7efa34ac",
   "metadata": {},
   "source": [
    "# Analyzing medical insurance cost :Medical Insurance Estimates vs. Costs Project"
   ]
  },
  {
   "cell_type": "markdown",
   "id": "3b8c8fc2",
   "metadata": {},
   "source": []
  },
  {
   "cell_type": "markdown",
   "id": "b2d3f72c",
   "metadata": {},
   "source": [
    "## Creating a For Loop"
   ]
  },
  {
   "cell_type": "markdown",
   "id": "4af76082",
   "metadata": {},
   "source": [
    "1. First, three sample lists are provided\n",
    "   - `names` stores the names of seven individuals.\n",
    "   - `estimated_insurance_costs` stores the estimated medical insurance costs for the individuals.\n",
    "   - `actual_insurance_costs` stores the actual insurance costs paid by the individuals.\n",
    "   \n",
    "  To calculate the average insurance cost each person paid. I'll start by adding up all of the insurance costs.\n",
    "   \n",
    "   I created a variable `total_cost` and initialized it to `0`."
   ]
  },
  {
   "cell_type": "code",
   "execution_count": 12,
   "id": "942629ef",
   "metadata": {},
   "outputs": [],
   "source": [
    "names = [\"Judith\", \"Abel\", \"Tyson\", \"Martha\", \"Beverley\", \"David\", \"Anabel\"]\n",
    "estimated_insurance_costs = [1000.0, 2000.0, 3000.0, 4000.0, 5000.0, 6000.0, 7000.0]\n",
    "actual_insurance_costs = [1100.0, 2200.0, 3300.0, 4400.0, 5500.0, 6600.0, 7700.0]\n"
   ]
  },
  {
   "cell_type": "markdown",
   "id": "acfa961f",
   "metadata": {},
   "source": [
    "2. I used a `for` loop to iterate through `actual_insurance_costs` and add each insurance cost to the variable `total_cost`."
   ]
  },
  {
   "cell_type": "code",
   "execution_count": 39,
   "id": "7572afff",
   "metadata": {},
   "outputs": [],
   "source": [
    "total_cost = 0\n",
    "for i in actual_insurance_costs:\n",
    "    total_cost += i\n",
    "    \n"
   ]
  },
  {
   "cell_type": "markdown",
   "id": "3bbc62d7",
   "metadata": {},
   "source": [
    "3. After the `for` loop, I created a variable called `average_cost` that stores the `total_cost` divided by the length of the `actual_insurance_costs` list."
   ]
  },
  {
   "cell_type": "code",
   "execution_count": 14,
   "id": "bb393759",
   "metadata": {},
   "outputs": [],
   "source": [
    "average_cost = total_cost/len(actual_insurance_costs)\n"
   ]
  },
  {
   "cell_type": "markdown",
   "id": "9020ae01",
   "metadata": {},
   "source": [
    "4. Printed `average_cost` with the following message:\n",
    "\n",
    "   ```\n",
    "   Average Insurance Cost: <average_cost> dollars.\n",
    "   ```"
   ]
  },
  {
   "cell_type": "code",
   "execution_count": 16,
   "id": "cb2abd2f",
   "metadata": {},
   "outputs": [
    {
     "name": "stdout",
     "output_type": "stream",
     "text": [
      "Average Insurance Cost:4400.0dollars\n"
     ]
    }
   ],
   "source": [
    "print('Average Insurance Cost:'+ str(average_cost) + 'dollars')"
   ]
  },
  {
   "cell_type": "markdown",
   "id": "8bd4231a",
   "metadata": {},
   "source": [
    "## Using Range in Loops"
   ]
  },
  {
   "cell_type": "markdown",
   "id": "643ebe21",
   "metadata": {},
   "source": [
    "5. For each individual in `names`, I wanted to determine whether their insurance cost is above or below average.\n",
    "\n",
    "   I Wrote a `for` loop with variable `i` that goes from `0` to `len(names)`.\n",
    "   Inside of the `for` loop, I did the following:\n",
    "   - Created a variable `name`, which stores `names[i]`.\n",
    "   - Created a variable `insurance_cost`, which stores `actual_insurance_costs[i]`.\n",
    "   - Printed out the insurance cost for each individual, with the following message:\n",
    "   ```\n",
    "   The insurance cost for <name> is <insurance_cost> dollars.\n",
    "   ```\n",
    "   \n",
    "  "
   ]
  },
  {
   "cell_type": "code",
   "execution_count": 19,
   "id": "7f9065e5",
   "metadata": {},
   "outputs": [
    {
     "name": "stdout",
     "output_type": "stream",
     "text": [
      "The insurance cost for Judith is 1100.0 dollars\n",
      "The insurance cost for Abel is 2200.0 dollars\n",
      "The insurance cost for Tyson is 3300.0 dollars\n",
      "The insurance cost for Martha is 4400.0 dollars\n",
      "The insurance cost for Beverley is 5500.0 dollars\n",
      "The insurance cost for David is 6600.0 dollars\n",
      "The insurance cost for Anabel is 7700.0 dollars\n"
     ]
    }
   ],
   "source": [
    "for i in range(len(names)):\n",
    "    name = names[i]\n",
    "    insurance_cost = actual_insurance_costs[i]\n",
    "    print(\"The insurance cost for \" + name + \" is \" + str(insurance_cost)+ \" dollars\")"
   ]
  },
  {
   "cell_type": "markdown",
   "id": "ca6c71d9",
   "metadata": {},
   "source": [
    "## Conditions inside a Loop"
   ]
  },
  {
   "cell_type": "markdown",
   "id": "a6570594",
   "metadata": {},
   "source": [
    "8. Inside of the `for` loop, use `if`, `elif`, `else` statements after the `print` statement to check whether the insurance cost is above, below, or equal to the average. Print out messages for each case:\n",
    "   - When `insurance_cost` is higher than the average, print out the following:\n",
    "   ```\n",
    "   The insurance cost for <name> is above average.\n",
    "   ```\n",
    "   - When `insurance_cost` is lower than the average, print out the following:\n",
    "   ```\n",
    "   The insurance cost for <name> is below average.\n",
    "   ```\n",
    "   - Otherwise, print out the following:\n",
    "   ```\n",
    "   The insurance cost for <name> is equal to the average.\n",
    "   ```"
   ]
  },
  {
   "cell_type": "code",
   "execution_count": 21,
   "id": "93ffface",
   "metadata": {},
   "outputs": [
    {
     "name": "stdout",
     "output_type": "stream",
     "text": [
      "The insurance cost for Judithis below average.\n",
      "The insurance cost for Abelis below average.\n",
      "The insurance cost for Tysonis below average.\n",
      "The insurance cost for Marthais equal to average.\n",
      "The insurance cost for Beverleyis above average.\n",
      "The insurance cost for Davidis above average.\n",
      "The insurance cost for Anabelis above average.\n"
     ]
    }
   ],
   "source": [
    "for i in range(len(names)):\n",
    "    name = names[i]\n",
    "    insurance_cost = actual_insurance_costs[i]\n",
    "    if insurance_cost > average_cost:\n",
    "        print(\"The insurance cost for \" + name + \"is above average.\")\n",
    "    elif insurance_cost < average_cost:\n",
    "        print(\"The insurance cost for \" + name + \"is below average.\")\n",
    "    else:\n",
    "        print(\"The insurance cost for \" + name + \"is equal to average.\")\n",
    "    "
   ]
  },
  {
   "cell_type": "markdown",
   "id": "82e664df",
   "metadata": {},
   "source": [
    "## Creating a List Comprehension"
   ]
  },
  {
   "cell_type": "markdown",
   "id": "dde1e68d",
   "metadata": {},
   "source": [
    "10. If you look closely at `actual_insurance_costs` and `estimated_insurance_costs`, you will notice that each of the actual insurance costs is 10% higher than the estimated insurance costs.\n",
    " \n",
    "    Using a list comprehension, I created a new list called `updated_estimated_costs`, which has each element in `estimated_insurance_costs` multiplied by `11/10`."
   ]
  },
  {
   "cell_type": "code",
   "execution_count": 24,
   "id": "b5602da4",
   "metadata": {},
   "outputs": [],
   "source": [
    "updated_estimate_costs = [estimated_cost * 11/10 for estimated_cost in estimated_insurance_costs]"
   ]
  },
  {
   "cell_type": "markdown",
   "id": "eeb071e3",
   "metadata": {},
   "source": [
    "11. Print `updated_estimated_costs`.\n",
    "\n",
    "    You should see that the list now looks the same as `actual_insurance_costs`."
   ]
  },
  {
   "cell_type": "code",
   "execution_count": 25,
   "id": "6dc117e9",
   "metadata": {},
   "outputs": [
    {
     "name": "stdout",
     "output_type": "stream",
     "text": [
      "[1100.0, 2200.0, 3300.0, 4400.0, 5500.0, 6600.0, 7700.0]\n"
     ]
    }
   ],
   "source": [
    "print(updated_estimate_costs)"
   ]
  },
  {
   "cell_type": "markdown",
   "id": "f57d79ac",
   "metadata": {},
   "source": [
    "## Extra"
   ]
  },
  {
   "cell_type": "markdown",
   "id": "bc6c0a65",
   "metadata": {},
   "source": [
    "- Converting the first `for` loop in the code to a `while` loop.\n",
    "- Modifying the second `for` loop so that it also calculates how far above or below the average estimated insurance cost is.\n",
    "    \n",
    "    Happy coding!"
   ]
  },
  {
   "cell_type": "code",
   "execution_count": 37,
   "id": "7aac3b39",
   "metadata": {},
   "outputs": [
    {
     "name": "stdout",
     "output_type": "stream",
     "text": [
      "The total_insurance cost is: 30800.0\n"
     ]
    }
   ],
   "source": [
    "#adding up all of the insurance costs.\n",
    "total = 0\n",
    "index = 0\n",
    "\n",
    "# Using a while loop to calculate the total\n",
    "while index < len(actual_insurance_costs):\n",
    "    total += actual_insurance_costs[index]\n",
    "    index += 1\n",
    "print(\"The total_insurance cost is: \"+ str(total))"
   ]
  },
  {
   "cell_type": "code",
   "execution_count": 46,
   "id": "a2d0b5cf",
   "metadata": {},
   "outputs": [
    {
     "name": "stdout",
     "output_type": "stream",
     "text": [
      "The insurance cost for Judith is below average by:-3300.0\n",
      "The insurance cost for Abel is below average by:-2200.0\n",
      "The insurance cost for Tyson is below average by:-1100.0\n",
      "The insurance cost for Martha is equal to average.\n",
      "The insurance cost for Beverley is above average by:1100.0\n",
      "The insurance cost for David is above average by:2200.0\n",
      "The insurance cost for Anabel is above average by:3300.0\n"
     ]
    }
   ],
   "source": [
    "# Modify the for loop to also calculate how far above/below the average estimated insurance cost is.\n",
    "for i in range(len(names)):\n",
    "    name = names[i]\n",
    "    insurance_cost = actual_insurance_costs[i]\n",
    "    difference = insurance_cost - average_cost\n",
    "    if insurance_cost > average_cost:\n",
    "        print(\"The insurance cost for \" + name + \" is above average by:\" + str(difference))\n",
    "    elif insurance_cost < average_cost:\n",
    "        print(\"The insurance cost for \" + name + \" is below average by:\" + str(difference))\n",
    "    else:\n",
    "        print(\"The insurance cost for \" + name + \" is equal to average.\")"
   ]
  },
  {
   "cell_type": "code",
   "execution_count": 40,
   "id": "8bc47784",
   "metadata": {},
   "outputs": [],
   "source": [
    "total_estimated_cost = 0    \n",
    "for i in estimated_insurance_costs:\n",
    "    total_estimated_cost += i\n",
    "    "
   ]
  },
  {
   "cell_type": "code",
   "execution_count": 41,
   "id": "f0f14b5f",
   "metadata": {},
   "outputs": [
    {
     "name": "stdout",
     "output_type": "stream",
     "text": [
      "4000.0\n"
     ]
    }
   ],
   "source": [
    "average_estimated_cost = total_estimated_cost/len(estimated_insurance_costs)   \n",
    "print(average_estimated_cost)"
   ]
  },
  {
   "cell_type": "code",
   "execution_count": 43,
   "id": "c1282cab",
   "metadata": {},
   "outputs": [
    {
     "name": "stdout",
     "output_type": "stream",
     "text": [
      "400.0\n"
     ]
    }
   ],
   "source": [
    "difference = average_cost - average_estimated_cost\n",
    "print(difference)"
   ]
  },
  {
   "cell_type": "code",
   "execution_count": null,
   "id": "3148176b",
   "metadata": {},
   "outputs": [],
   "source": []
  }
 ],
 "metadata": {
  "kernelspec": {
   "display_name": "Python 3 (ipykernel)",
   "language": "python",
   "name": "python3"
  },
  "language_info": {
   "codemirror_mode": {
    "name": "ipython",
    "version": 3
   },
   "file_extension": ".py",
   "mimetype": "text/x-python",
   "name": "python",
   "nbconvert_exporter": "python",
   "pygments_lexer": "ipython3",
   "version": "3.11.5"
  }
 },
 "nbformat": 4,
 "nbformat_minor": 5
}
